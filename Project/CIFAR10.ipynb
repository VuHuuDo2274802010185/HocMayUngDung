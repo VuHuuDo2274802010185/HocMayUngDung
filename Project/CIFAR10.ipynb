{
 "cells": [
  {
   "cell_type": "markdown",
   "metadata": {},
   "source": [
    "+ training và đánh giá model."
   ]
  },
  {
   "cell_type": "code",
   "execution_count": null,
   "metadata": {},
   "outputs": [
    {
     "name": "stdout",
     "output_type": "stream",
     "text": [
      "Files already downloaded and verified\n",
      "Files already downloaded and verified\n",
      "Epoch [1/10], Loss: 1.6335, Accuracy: 40.07%, Test Loss: 1.2612, Test Accuracy: 54.78%\n",
      "Epoch [2/10], Loss: 1.3078, Accuracy: 52.72%, Test Loss: 1.0581, Test Accuracy: 62.20%\n",
      "Epoch [3/10], Loss: 1.1683, Accuracy: 57.87%, Test Loss: 0.9483, Test Accuracy: 66.40%\n",
      "Epoch [4/10], Loss: 1.0808, Accuracy: 61.55%, Test Loss: 0.8731, Test Accuracy: 68.89%\n",
      "Epoch [5/10], Loss: 1.0210, Accuracy: 63.49%, Test Loss: 0.8714, Test Accuracy: 68.92%\n",
      "Epoch [6/10], Loss: 0.9390, Accuracy: 66.71%, Test Loss: 0.7931, Test Accuracy: 72.01%\n",
      "Epoch [7/10], Loss: 0.9185, Accuracy: 67.73%, Test Loss: 0.7805, Test Accuracy: 72.49%\n",
      "Epoch [8/10], Loss: 0.9035, Accuracy: 68.18%, Test Loss: 0.7684, Test Accuracy: 72.86%\n",
      "Epoch [9/10], Loss: 0.8887, Accuracy: 68.87%, Test Loss: 0.7603, Test Accuracy: 73.06%\n",
      "Epoch [10/10], Loss: 0.8812, Accuracy: 68.92%, Test Loss: 0.7541, Test Accuracy: 73.47%\n"
     ]
    }
   ],
   "source": [
    "import torch  # Nhập mô-đun PyTorch\n",
    "import torch.nn as nn  # Nhập mô-đun Neural Network từ PyTorch\n",
    "import torch.nn.functional as F  # Nhập các hàm chức năng cho neural network\n",
    "import torch.optim as optim  # Nhập mô-đun tối ưu hóa từ PyTorch\n",
    "import torchvision  # Nhập mô-đun torchvision để xử lý ảnh\n",
    "import torchvision.transforms as transforms  # Nhập các phép biến đổi cho ảnh\n",
    "from torch.optim.lr_scheduler import StepLR  # Nhập scheduler giảm tốc độ học\n",
    "from sklearn.metrics import precision_score, recall_score, accuracy_score  # Nhập các hàm tính toán độ chính xác\n",
    "\n",
    "# Định nghĩa các phép biến đổi cho tập huấn luyện\n",
    "transform_train = transforms.Compose([\n",
    "    transforms.RandomHorizontalFlip(),  # Lật ảnh theo chiều ngang ngẫu nhiên\n",
    "    transforms.RandomCrop(32, padding=4),  # Cắt ngẫu nhiên với kích thước 32x32 và padding 4\n",
    "    transforms.ToTensor(),  # Chuyển đổi ảnh thành tensor\n",
    "    transforms.Normalize((0.5, 0.5, 0.5), (0.5, 0.5, 0.5))  # Chuẩn hóa ảnh\n",
    "])\n",
    "\n",
    "# Định nghĩa các phép biến đổi cho tập kiểm tra\n",
    "transform_test = transforms.Compose([\n",
    "    transforms.ToTensor(),  # Chuyển đổi ảnh thành tensor\n",
    "    transforms.Normalize((0.5, 0.5, 0.5), (0.5, 0.5, 0.5))  # Chuẩn hóa ảnh\n",
    "])\n",
    "\n",
    "# Tạo tập dữ liệu huấn luyện từ CIFAR10\n",
    "trainset = torchvision.datasets.CIFAR10(root='./data', train=True,\n",
    "                                        download=True, transform=transform_train)\n",
    "# Tạo loader cho tập dữ liệu huấn luyện\n",
    "trainloader = torch.utils.data.DataLoader(trainset, batch_size=128,\n",
    "                                          shuffle=True, num_workers=2)\n",
    "\n",
    "# Tạo tập dữ liệu kiểm tra từ CIFAR10\n",
    "testset = torchvision.datasets.CIFAR10(root='./data', train=False,\n",
    "                                       download=True, transform=transform_test)\n",
    "# Tạo loader cho tập dữ liệu kiểm tra\n",
    "testloader = torch.utils.data.DataLoader(testset, batch_size=128,\n",
    "                                         shuffle=False, num_workers=2)\n",
    "\n",
    "# CIFAR-10 có 60,000 ảnh tổng cộng, trong đó:\n",
    "# 50,000 ảnh trong tập huấn luyện\n",
    "# 10,000 ảnh trong tập kiểm tra\n",
    "\n",
    "# Định nghĩa lớp mô hình\n",
    "class Net(nn.Module):\n",
    "    def __init__(self):\n",
    "        super(Net, self).__init__()  # Khởi tạo lớp cơ sở\n",
    "        self.conv1 = nn.Conv2d(3, 32, 3, padding=1)  # Lớp tích chập đầu tiên\n",
    "        self.conv2 = nn.Conv2d(32, 64, 3, padding=1)  # Lớp tích chập thứ hai\n",
    "        self.pool = nn.MaxPool2d(2, 2)  # Lớp max pooling\n",
    "        self.fc1 = nn.Linear(64 * 8 * 8, 512)  # Lớp fully connected đầu tiên\n",
    "        self.fc2 = nn.Linear(512, 10)  # Lớp fully connected thứ hai\n",
    "        self.dropout = nn.Dropout(0.5)  # Lớp dropout để giảm overfitting\n",
    "\n",
    "    def forward(self, x):\n",
    "        x = self.pool(F.relu(self.conv1(x)))  # Thực hiện tích chập và pooling\n",
    "        x = self.pool(F.relu(self.conv2(x)))  # Thực hiện tích chập và pooling\n",
    "        x = x.view(-1, 64 * 8 * 8)  # Chuyển đổi tensor thành dạng 2D\n",
    "        x = F.relu(self.fc1(x))  # Thực hiện lớp fully connected đầu tiên\n",
    "        x = self.dropout(x)  # Áp dụng dropout\n",
    "        x = self.fc2(x)  # Thực hiện lớp fully connected thứ hai\n",
    "        return x  # Trả về đầu ra\n",
    "\n",
    "# Tạo một thể hiện của mô hình\n",
    "model = Net()\n",
    "# Chọn thiết bị để chạy mô hình (GPU nếu có, ngược lại là CPU)\n",
    "device = torch.device(\"cuda:0\" if torch.cuda.is_available() else \"cpu\")\n",
    "model.to(device)  # Chuyển mô hình sang thiết bị đã chọn\n",
    "\n",
    "# Định nghĩa hàm mất mát\n",
    "criterion = nn.CrossEntropyLoss()\n",
    "# Định nghĩa bộ tối ưu hóa Adam\n",
    "optimizer = optim.Adam(model.parameters(), lr=0.001)\n",
    "# Định nghĩa scheduler để giảm tốc độ học sau mỗi 5 epoch\n",
    "scheduler = StepLR(optimizer, step_size=5, gamma=0.2)\n",
    "\n",
    "n_epochs = 10  # Số lượng epoch huấn luyện\n",
    "train_losses = []  # Danh sách lưu trữ giá trị mất mát trong quá trình huấn luyện\n",
    "train_accuracies = []  # Danh sách lưu trữ độ chính xác trong quá trình huấn luyện\n",
    "test_losses = []  # Danh sách lưu trữ giá trị mất mát trong quá trình kiểm tra\n",
    "test_accuracies = []  # Danh sách lưu trữ độ chính xác trong quá trình kiểm tra\n",
    "\n",
    "# Hàm đánh giá mô hình\n",
    "def evaluate(model, dataloader, loss_fn):\n",
    "    model.eval()  # Chuyển mô hình sang chế độ đánh giá\n",
    "    test_loss = 0.0  # Khởi tạo giá trị mất mát kiểm tra\n",
    "    correct = 0  # Khởi tạo số lượng dự đoán đúng\n",
    "    total = 0  # Khởi tạo tổng số mẫu\n",
    "\n",
    "    with torch.no_grad():  # Không tính toán gradient trong quá trình đánh giá\n",
    "        for inputs, labels in dataloader:  # Lặp qua các batch trong dataloader\n",
    "            inputs, labels = inputs.to(device), labels.to(device)  # Chuyển dữ liệu sang thiết bị\n",
    "            outputs = model(inputs)  # Dự đoán đầu ra từ mô hình\n",
    "            loss = loss_fn(outputs, labels)  # Tính toán mất mát\n",
    "            test_loss += loss.item()  # Cộng dồn giá trị mất mát\n",
    "            _, predicted = torch.max(outputs.data, 1)  # Lấy nhãn dự đoán\n",
    "            total += labels.size(0)  # Cộng dồn tổng số mẫu\n",
    "            correct += (predicted == labels).sum().item()  # Cập nhật số lượng dự đoán đúng\n",
    "\n",
    "    accuracy = 100 * correct / total  # Tính toán độ chính xác\n",
    "    test_loss /= len(dataloader)  # Tính trung bình mất mát\n",
    "    return test_loss, accuracy  # Trả về mất mát và độ chính xác\n",
    "\n",
    "best_accuracy = 0.0  # Khởi tạo giá trị độ chính xác tốt nhất\n",
    "\n",
    "# Vòng lặp huấn luyện qua từng epoch\n",
    "# \"epoch\" chỉ một lần lặp qua toàn bộ tập dữ liệu trong quá trình huấn luyện mô hình\n",
    "for epoch in range(n_epochs):\n",
    "    model.train()  # Chuyển mô hình sang chế độ huấn luyện\n",
    "    running_loss = 0.0  # Khởi tạo giá trị mất mát trong epoch\n",
    "    running_correct = 0  # Khởi tạo số lượng dự đoán đúng\n",
    "    total = 0  # Khởi tạo tổng số mẫu\n",
    "\n",
    "    for i, (inputs, labels) in enumerate(trainloader, 0):  # Lặp qua các batch trong trainloader\n",
    "        inputs, labels = inputs.to(device), labels.to(device)  # Chuyển dữ liệu sang thiết bị\n",
    "\n",
    "        optimizer.zero_grad()  # Đặt gradient về 0 trước khi tính toán\n",
    "\n",
    "        outputs = model(inputs)  # Dự đoán đầu ra từ mô hình\n",
    "        loss = criterion(outputs, labels)  # Tính toán mất mát\n",
    "        loss.backward()  # Tính toán gradient\n",
    "        optimizer.step()  # Cập nhật tham số của mô hình\n",
    "\n",
    "        running_loss += loss.item()  # Cộng dồn giá trị mất mát\n",
    "\n",
    "        _, predicted = torch.max(outputs.data, 1)  # Lấy nhãn dự đoán\n",
    "        total += labels.size(0)  # Cộng dồn tổng số mẫu\n",
    "        running_correct += (predicted == labels).sum().item()  # Cập nhật số lượng dự đoán đúng\n",
    "\n",
    "    epoch_accuracy = 100 * running_correct / total  # Tính toán độ chính xác của epoch\n",
    "    epoch_loss = running_loss / (i + 1)  # Tính trung bình mất mát của epoch\n",
    "    test_loss, test_accuracy = evaluate(model, testloader, criterion)  # Đánh giá mô hình trên tập kiểm tra\n",
    "    \n",
    "    # In ra kết quả của epoch\n",
    "    print(f\"Epoch [{epoch + 1}/{n_epochs}], Loss: {epoch_loss:.4f}, Accuracy: {epoch_accuracy:.2f}%, Test Loss: {test_loss:.4f}, Test Accuracy: {test_accuracy:.2f}%\")\n",
    "    \n",
    "    train_losses.append(epoch_loss)  # Lưu giá trị mất mát của epoch\n",
    "    train_accuracies.append(epoch_accuracy)  # Lưu độ chính xác của epoch\n",
    "    test_losses.append(test_loss)  # Lưu giá trị mất mát kiểm tra\n",
    "    test_accuracies.append(test_accuracy)  # Lưu độ chính xác kiểm tra\n",
    "\n",
    "    if test_accuracy > best_accuracy:  # Nếu độ chính xác kiểm tra tốt hơn độ chính xác tốt nhất\n",
    "        best_accuracy = test_accuracy  # Cập nhật độ chính xác tốt nhất\n",
    "        torch.save(model.state_dict(), 'best_model.pth')  # Lưu mô hình\n",
    "\n",
    "    scheduler.step()  # Cập nhật tốc độ học theo scheduler"
   ]
  },
  {
   "cell_type": "markdown",
   "metadata": {},
   "source": [
    "+ Biểu đồ sau khi train"
   ]
  },
  {
   "cell_type": "code",
   "execution_count": null,
   "metadata": {},
   "outputs": [
    {
     "data": {
      "image/png": "[encoded data removed]",
      "text/plain": [
       "<Figure size 2000x500 with 2 Axes>"
      ]
     },
     "metadata": {},
     "output_type": "display_data"
    }
   ],
   "source": [
    "import matplotlib.pyplot as plt  # Nhập mô-đun matplotlib để vẽ biểu đồ\n",
    "\n",
    "plt.figure(figsize=(20, 5))  # Tạo một figure với kích thước 20x5 inch\n",
    "\n",
    "# Tạo subplot cho biểu đồ mất mát\n",
    "plt.subplot(121)  # Chọn vị trí subplot đầu tiên (1 hàng, 2 cột, vị trí 1)\n",
    "plt.title('Loss Epochs')  # Đặt tiêu đề cho biểu đồ mất mát\n",
    "plt.plot(train_losses, label='train Loss')  # Vẽ đường biểu diễn cho mất mát huấn luyện\n",
    "plt.plot(test_losses, label='Test Loss')  # Vẽ đường biểu diễn cho mất mát kiểm tra\n",
    "plt.legend()  # Hiện thị chú thích cho các đường biểu diễn\n",
    "\n",
    "# Tạo subplot cho biểu đồ độ chính xác\n",
    "plt.subplot(122)  # Chọn vị trí subplot thứ hai (1 hàng, 2 cột, vị trí 2)\n",
    "plt.title('Accuracy Epoch')  # Đặt tiêu đề cho biểu đồ độ chính xác\n",
    "plt.plot(test_accuracies, label='Test Accuracy')  # Vẽ đường biểu diễn cho độ chính xác kiểm tra\n",
    "plt.legend()  # Hiện thị chú thích cho đường biểu diễn\n",
    "\n",
    "plt.show()  # Hiển thị tất cả các biểu đồ đã vẽ"
   ]
  },
  {
   "cell_type": "markdown",
   "metadata": {},
   "source": [
    "+ Thuật toán SVM (Support Vector Machine) là một phương pháp học máy được sử dụng chủ yếu cho các bài toán phân loại và hồi quy"
   ]
  },
  {
   "cell_type": "code",
   "execution_count": null,
   "metadata": {},
   "outputs": [
    {
     "name": "stdout",
     "output_type": "stream",
     "text": [
      "SVM Precision: 22.50%\n",
      "SVM Recall: 20.00%\n"
     ]
    },
    {
     "name": "stderr",
     "output_type": "stream",
     "text": [
      "C:\\Users\\vuhuu\\AppData\\Local\\Packages\\PythonSoftwareFoundation.Python.3.11_qbz5n2kfra8p0\\LocalCache\\local-packages\\Python311\\site-packages\\sklearn\\metrics\\_classification.py:1531: UndefinedMetricWarning: Precision is ill-defined and being set to 0.0 in labels with no predicted samples. Use `zero_division` parameter to control this behavior.\n",
      "  _warn_prf(average, modifier, f\"{metric.capitalize()} is\", len(result))\n",
      "C:\\Users\\vuhuu\\AppData\\Local\\Packages\\PythonSoftwareFoundation.Python.3.11_qbz5n2kfra8p0\\LocalCache\\local-packages\\Python311\\site-packages\\sklearn\\metrics\\_classification.py:1531: UndefinedMetricWarning: Recall is ill-defined and being set to 0.0 in labels with no true samples. Use `zero_division` parameter to control this behavior.\n",
      "  _warn_prf(average, modifier, f\"{metric.capitalize()} is\", len(result))\n"
     ]
    }
   ],
   "source": [
    "import torch  # Nhập mô-đun PyTorch\n",
    "import torchvision  # Nhập mô-đun torchvision để xử lý ảnh\n",
    "import torchvision.transforms as transforms  # Nhập các phép biến đổi cho ảnh\n",
    "from sklearn import svm  # Nhập mô-đun SVM từ sklearn\n",
    "from sklearn.ensemble import RandomForestClassifier  # Nhập mô-đun RandomForest (chưa sử dụng trong đoạn này)\n",
    "from sklearn.metrics import precision_score, recall_score  # Nhập các hàm tính toán precision và recall\n",
    "import numpy as np  # Nhập mô-đun numpy để xử lý mảng\n",
    "\n",
    "# Chuyển đổi dữ liệu huấn luyện thành định dạng numpy\n",
    "for data in trainloader:  # Lặp qua từng batch trong trainloader\n",
    "    train_images, train_labels = data  # Tách dữ liệu và nhãn\n",
    "    train_images = train_images.view(train_images.size(0), -1).numpy()  # Biến đổi tensor thành mảng 2D\n",
    "    train_labels = train_labels.numpy()  # Chuyển nhãn thành mảng numpy\n",
    "\n",
    "# Chuyển đổi dữ liệu kiểm tra thành định dạng numpy\n",
    "for data in testloader:  # Lặp qua từng batch trong testloader\n",
    "    test_images, test_labels = data  # Tách dữ liệu và nhãn\n",
    "    test_images = test_images.view(test_images.size(0), -1).numpy()  # Biến đổi tensor thành mảng 2D\n",
    "    test_labels = test_labels.numpy()  # Chuyển nhãn thành mảng numpy\n",
    "\n",
    "# Định nghĩa mô hình SVM với kernel tuyến tính\n",
    "svm_model = svm.SVC(kernel='linear', C=1.0)  # Tạo một mô hình SVM với kernel tuyến tính\n",
    "\n",
    "# Huấn luyện mô hình SVM với dữ liệu huấn luyện\n",
    "svm_model.fit(train_images, train_labels)  # Huấn luyện mô hình trên dữ liệu huấn luyện\n",
    "\n",
    "# Dự đoán nhãn cho tập kiểm tra\n",
    "svm_predictions = svm_model.predict(test_images)  # Dự đoán nhãn cho dữ liệu kiểm tra\n",
    "\n",
    "# Tính toán Precision và Recall\n",
    "svm_precision = precision_score(test_labels, svm_predictions, average='macro') * 100  # Tính precision\n",
    "svm_recall = recall_score(test_labels, svm_predictions, average='macro') * 100  # Tính recall\n",
    "\n",
    "# In ra kết quả Precision và Recall\n",
    "print(f'SVM Precision: {svm_precision:.2f}%')  # In ra giá trị precision\n",
    "print(f'SVM Recall: {svm_recall:.2f}%')  # In ra giá trị recall"
   ]
  },
  {
   "cell_type": "markdown",
   "metadata": {},
   "source": [
    "+ Thuật toán Random Forest là một thuật toán học máy sử dụng để phân loại và hồi quy, dựa trên nguyên lý của cây quyết định (decision trees)."
   ]
  },
  {
   "cell_type": "code",
   "execution_count": null,
   "metadata": {},
   "outputs": [
    {
     "name": "stdout",
     "output_type": "stream",
     "text": [
      "Random Forest Precision: 5.56%\n",
      "Random Forest Recall: 7.41%\n"
     ]
    },
    {
     "name": "stderr",
     "output_type": "stream",
     "text": [
      "C:\\Users\\vuhuu\\AppData\\Local\\Packages\\PythonSoftwareFoundation.Python.3.11_qbz5n2kfra8p0\\LocalCache\\local-packages\\Python311\\site-packages\\sklearn\\metrics\\_classification.py:1531: UndefinedMetricWarning: Precision is ill-defined and being set to 0.0 in labels with no predicted samples. Use `zero_division` parameter to control this behavior.\n",
      "  _warn_prf(average, modifier, f\"{metric.capitalize()} is\", len(result))\n",
      "C:\\Users\\vuhuu\\AppData\\Local\\Packages\\PythonSoftwareFoundation.Python.3.11_qbz5n2kfra8p0\\LocalCache\\local-packages\\Python311\\site-packages\\sklearn\\metrics\\_classification.py:1531: UndefinedMetricWarning: Recall is ill-defined and being set to 0.0 in labels with no true samples. Use `zero_division` parameter to control this behavior.\n",
      "  _warn_prf(average, modifier, f\"{metric.capitalize()} is\", len(result))\n"
     ]
    }
   ],
   "source": [
    "import torch  # Nhập mô-đun PyTorch\n",
    "import torchvision  # Nhập mô-đun torchvision để xử lý ảnh\n",
    "import torchvision.transforms as transforms  # Nhập các phép biến đổi cho ảnh\n",
    "from sklearn.ensemble import RandomForestClassifier  # Nhập mô-đun RandomForestClassifier từ sklearn\n",
    "from sklearn.metrics import precision_score, recall_score  # Nhập các hàm tính toán precision và recall\n",
    "import numpy as np  # Nhập mô-đun numpy để xử lý mảng\n",
    "\n",
    "# Chuyển đổi dữ liệu huấn luyện thành định dạng numpy\n",
    "for data in trainloader:  # Lặp qua từng batch trong trainloader\n",
    "    train_images, train_labels = data  # Tách dữ liệu và nhãn\n",
    "    train_images = train_images.view(train_images.size(0), -1).numpy()  # Biến đổi tensor thành mảng 2D\n",
    "    train_labels = train_labels.numpy()  # Chuyển nhãn thành mảng numpy\n",
    "\n",
    "# Chuyển đổi dữ liệu kiểm tra thành định dạng numpy\n",
    "for data in testloader:  # Lặp qua từng batch trong testloader\n",
    "    test_images, test_labels = data  # Tách dữ liệu và nhãn\n",
    "    test_images = test_images.view(test_images.size(0), -1).numpy()  # Biến đổi tensor thành mảng 2D\n",
    "    test_labels = test_labels.numpy()  # Chuyển nhãn thành mảng numpy\n",
    "\n",
    "# Định nghĩa mô hình Random Forest với 100 cây\n",
    "rf_model = RandomForestClassifier(n_estimators=100, random_state=42)  # Tạo mô hình Random Forest\n",
    "\n",
    "# Huấn luyện mô hình Random Forest với dữ liệu huấn luyện\n",
    "rf_model.fit(train_images, train_labels)  # Huấn luyện mô hình trên dữ liệu huấn luyện\n",
    "\n",
    "# Dự đoán nhãn cho tập kiểm tra\n",
    "rf_predictions = rf_model.predict(test_images)  # Dự đoán nhãn cho dữ liệu kiểm tra\n",
    "\n",
    "# Tính toán Precision và Recall\n",
    "rf_precision = precision_score(test_labels, rf_predictions, average='macro') * 100  # Tính precision\n",
    "rf_recall = recall_score(test_labels, rf_predictions, average='macro') * 100  # Tính recall\n",
    "\n",
    "# In ra kết quả Precision và Recall\n",
    "print(f'Random Forest Precision: {rf_precision:.2f}%')  # In ra giá trị precision\n",
    "print(f'Random Forest Recall: {rf_recall:.2f}%')  # In ra giá trị recall"
   ]
  },
  {
   "cell_type": "markdown",
   "metadata": {},
   "source": [
    "+ Thuật toán CNN (Mạng Nơ-ron Tích chập) là một loại mạng nơ-ron được thiết kế đặc biệt cho việc xử lý và phân tích dữ liệu có cấu trúc dạng lưới, chẳng hạn như hình ảnh."
   ]
  },
  {
   "cell_type": "code",
   "execution_count": null,
   "metadata": {},
   "outputs": [
    {
     "name": "stdout",
     "output_type": "stream",
     "text": [
      "[Epoch: 1, Mini-batch: 200] loss: 2.304\n",
      "[Epoch: 2, Mini-batch: 200] loss: 2.301\n",
      "Finished Training\n",
      "Precision: 7.94%\n",
      "Recall: 13.66%\n"
     ]
    },
    {
     "name": "stderr",
     "output_type": "stream",
     "text": [
      "C:\\Users\\vuhuu\\AppData\\Local\\Packages\\PythonSoftwareFoundation.Python.3.11_qbz5n2kfra8p0\\LocalCache\\local-packages\\Python311\\site-packages\\sklearn\\metrics\\_classification.py:1531: UndefinedMetricWarning: Precision is ill-defined and being set to 0.0 in labels with no predicted samples. Use `zero_division` parameter to control this behavior.\n",
      "  _warn_prf(average, modifier, f\"{metric.capitalize()} is\", len(result))\n"
     ]
    }
   ],
   "source": [
    "import torch  # Nhập mô-đun PyTorch\n",
    "import torch.nn as nn  # Nhập mô-đun các lớp neural network từ PyTorch\n",
    "import torch.nn.functional as F  # Nhập các hàm chức năng cho neural network\n",
    "import torch.optim as optim  # Nhập mô-đun tối ưu hóa từ PyTorch\n",
    "import torchvision  # Nhập mô-đun torchvision để xử lý ảnh\n",
    "import torchvision.transforms as transforms  # Nhập các phép biến đổi cho ảnh\n",
    "from sklearn.metrics import precision_score, recall_score  # Nhập các hàm tính toán precision và recall\n",
    "\n",
    "# Định nghĩa mô hình CNN\n",
    "class Net(nn.Module):\n",
    "    def __init__(self):  # Khởi tạo lớp\n",
    "        super(Net, self).__init__()  # Gọi hàm khởi tạo của lớp cha\n",
    "        self.conv1 = nn.Conv2d(3, 6, 5)  # Lớp tích chập đầu tiên (3 kênh đầu vào, 6 kênh đầu ra, kernel 5x5)\n",
    "        self.pool = nn.MaxPool2d(2, 2)  # Lớp max pooling với kích thước 2x2\n",
    "        self.conv2 = nn.Conv2d(6, 16, 5)  # Lớp tích chập thứ hai (6 kênh đầu vào, 16 kênh đầu ra)\n",
    "        self.fc1 = nn.Linear(16 * 5 * 5, 120)  # Lớp fully connected đầu tiên\n",
    "        self.fc2 = nn.Linear(120, 84)  # Lớp fully connected thứ hai\n",
    "        self.fc3 = nn.Linear(84, 10)  # Lớp fully connected thứ ba (10 lớp đầu ra cho 10 lớp phân loại)\n",
    "\n",
    "    def forward(self, x):  # Định nghĩa hàm truyền tiến\n",
    "        x = self.pool(F.relu(self.conv1(x)))  # Thực hiện tích chập và pooling\n",
    "        x = self.pool(F.relu(self.conv2(x)))  # Thực hiện tích chập và pooling\n",
    "        x = x.view(-1, 16 * 5 * 5)  # Chuyển đổi tensor thành dạng 2D\n",
    "        x = F.relu(self.fc1(x))  # Thực hiện lớp fully connected đầu tiên\n",
    "        x = F.relu(self.fc2(x))  # Thực hiện lớp fully connected thứ hai\n",
    "        x = self.fc3(x)  # Thực hiện lớp fully connected thứ ba\n",
    "        return x  # Trả về đầu ra\n",
    "\n",
    "net = Net()  # Tạo một thể hiện của mô hình\n",
    "\n",
    "criterion = nn.CrossEntropyLoss()  # Định nghĩa hàm mất mát\n",
    "optimizer = optim.SGD(net.parameters(), lr=0.001, momentum=0.9)  # Định nghĩa bộ tối ưu hóa SGD với momentum\n",
    "\n",
    "# Huấn luyện mô hình\n",
    "for epoch in range(2):  # Lặp qua tập dữ liệu nhiều lần (ở đây là 2 lần)\n",
    "    running_loss = 0.0  # Khởi tạo giá trị mất mát trong epoch\n",
    "    for i, data in enumerate(trainloader, 0):  # Lặp qua từng batch trong trainloader\n",
    "        inputs, labels = data  # Tách dữ liệu đầu vào và nhãn\n",
    "\n",
    "        # Xóa gradients\n",
    "        optimizer.zero_grad()  # Đặt gradient về 0 trước khi tính toán gradient mới\n",
    "\n",
    "        # Forward, backward, optimize\n",
    "        outputs = net(inputs)  # Dự đoán đầu ra từ mô hình\n",
    "        loss = criterion(outputs, labels)  # Tính toán mất mát\n",
    "        loss.backward()  # Tính toán gradient\n",
    "        optimizer.step()  # Cập nhật tham số của mô hình\n",
    "\n",
    "        # In ra thông tin\n",
    "        running_loss += loss.item()  # Cộng dồn giá trị mất mát\n",
    "        if i % 200 == 199:  # In ra thông tin mỗi 200 mini-batches\n",
    "            print(f'[Epoch: {epoch + 1}, Mini-batch: {i + 1}] loss: {running_loss / 200:.3f}')  # In ra mất mát trung bình\n",
    "            running_loss = 0.0  # Đặt lại giá trị mất mát\n",
    "\n",
    "print('Finished Training')  # Thông báo hoàn thành huấn luyện\n",
    "\n",
    "# Dự đoán và tính toán Precision và Recall\n",
    "all_preds = []  # Danh sách lưu trữ tất cả dự đoán\n",
    "all_labels = []  # Danh sách lưu trữ tất cả nhãn thực\n",
    "\n",
    "with torch.no_grad():  # Không tính toán gradient trong quá trình dự đoán\n",
    "    for data in testloader:  # Lặp qua từng batch trong testloader\n",
    "        images, labels = data  # Tách dữ liệu đầu vào và nhãn\n",
    "        outputs = net(images)  # Dự đoán đầu ra từ mô hình\n",
    "        _, predicted = torch.max(outputs, 1)  # Lấy nhãn dự đoán\n",
    "        all_preds.extend(predicted.numpy())  # Thêm dự đoán vào danh sách\n",
    "        all_labels.extend(labels.numpy())  # Thêm nhãn thực vào danh sách\n",
    "\n",
    "# Tính toán Precision và Recall\n",
    "precision = precision_score(all_labels, all_preds, average='macro') * 100  # Tính precision\n",
    "recall = recall_score(all_labels, all_preds, average='macro') * 100  # Tính recall\n",
    "\n",
    "# In ra kết quả Precision và Recall\n",
    "print(f'Precision: {precision:.2f}%')  # In ra giá trị precision\n",
    "print(f'Recall: {recall:.2f}%')  # In ra giá trị recall"
   ]
  },
  {
   "cell_type": "code",
   "execution_count": null,
   "metadata": {},
   "outputs": [],
   "source": []
  },
  {
   "cell_type": "markdown",
   "metadata": {},
   "source": [
    "## Bảng so sánh giữa các thuật toán\n",
    "| Thuật toán   | Precision                                       | Recall  |\n",
    "|--------------|-------------------------------------------------|---------|\n",
    "| SVM          | 22.50%                                          | 20.00%  |\n",
    "| Random Forest| 5.56%                                          | 7.41%  |\n",
    "| CNN          | 7.94%                                          | 13.66%  |\n"
   ]
  }
 ],
 "metadata": {
  "kernelspec": {
   "display_name": "Python 3",
   "language": "python",
   "name": "python3"
  },
  "language_info": {
   "codemirror_mode": {
    "name": "ipython",
    "version": 3
   },
   "file_extension": ".py",
   "mimetype": "text/x-python",
   "name": "python",
   "nbconvert_exporter": "python",
   "pygments_lexer": "ipython3",
   "version": "3.11.9"
  }
 },
 "nbformat": 4,
 "nbformat_minor": 2
}
